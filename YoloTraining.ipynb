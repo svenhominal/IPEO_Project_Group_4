{
 "cells": [
  {
   "cell_type": "markdown",
   "metadata": {},
   "source": [
    "## File to Train YOLO\n",
    "Run this file to train YOLO"
   ]
  },
  {
   "cell_type": "code",
   "execution_count": null,
   "metadata": {},
   "outputs": [],
   "source": [
    "from ultralytics.data.utils import verify_image_label\n",
    "from ultralytics import YOLO\n",
    "import yaml  \n",
    "from Dataset import LargeRocksDataset\n",
    "from ultralytics import YOLO"
   ]
  },
  {
   "cell_type": "code",
   "execution_count": 2,
   "metadata": {},
   "outputs": [],
   "source": [
    "def write_yaml_file(output_path, path_params, class_names={0: \"Rock\"}, augmentation_params=None):\n",
    "\n",
    "    # Extract paths from the dictionary\n",
    "    dataset_path = path_params.get(\"dataset_path\", \"\")\n",
    "    train_path = path_params.get(\"train_path\", \"\")\n",
    "    val_path = path_params.get(\"val_path\", \"\")\n",
    "    test_path = path_params.get(\"test_path\", \"\")\n",
    "\n",
    "    # Build the data dictionary for YAML\n",
    "    data = {\n",
    "        \"path\": dataset_path,\n",
    "        \"train\": train_path,\n",
    "        \"val\": val_path,\n",
    "        \"test\": test_path,\n",
    "        \"names\": class_names\n",
    "    }\n",
    "\n",
    "    nc = len(class_names)\n",
    "    data[\"nc\"] = nc\n",
    "\n",
    "    if augmentation_params:\n",
    "        data[\"augmentation\"] = augmentation_params\n",
    "\n",
    "    # Write the YAML file\n",
    "    with open(output_path, 'w') as yaml_file:\n",
    "        yaml.dump(data, yaml_file, default_flow_style=False)\n",
    "    \n",
    "    print(f\"YAML file written to: {output_path}\")"
   ]
  },
  {
   "cell_type": "code",
   "execution_count": null,
   "metadata": {},
   "outputs": [],
   "source": [
    "output_yaml = \"data.yaml\"\n",
    "\n",
    "dataset_path = \"/Users/janclevorn/Desktop/EPFL/IPEO_Project_Group_4/YOLO\"\n",
    "train_path = \"/Users/janclevorn/Desktop/EPFL/IPEO_Project_Group_4/YOLO/images/train\"\n",
    "val_path = \"/Users/janclevorn/Desktop/EPFL/IPEO_Project_Group_4/YOLO/images/val\"\n",
    "test_path = \"/Users/janclevorn/Desktop/EPFL/IPEO_Project_Group_4/YOLO/images/test\"\n",
    "\n",
    "# Define the paths in a dictionary\n",
    "path_params = {\n",
    "                \"dataset_path\": dataset_path, \n",
    "                \"train_path\": train_path, \n",
    "                \"val_path\": val_path, \n",
    "                \"test_path\": test_path, \n",
    "            }\n",
    "\n",
    "# Define class names and augmentation parameters\n",
    "class_names = {\n",
    "                0: \"Rock\"\n",
    "            }\n",
    "\n",
    "\n",
    "# Call the function\n",
    "write_yaml_file(output_yaml, path_params, class_names)"
   ]
  },
  {
   "cell_type": "code",
   "execution_count": null,
   "metadata": {},
   "outputs": [],
   "source": [
    "# Define the required arguments\n",
    "image_file = \"YOLO/images/test/2595_1098_0_0.tif\"  # Path to the image file\n",
    "label_file = \"YOLO/labels/test/2595_1098_0_0.tif\"  # Path to the corresponding label file\n",
    "prefix = \"[VERIFY] \"  # Optional log message prefix\n",
    "keypoint = False  # Whether the labels include keypoints\n",
    "num_classes = 1  # Total number of classes in the dataset\n",
    "nkpt = 0  # Number of keypoints (if keypoint is True)\n",
    "ndim = 0  # Number of dimensions for keypoints\n",
    "\n",
    "# Verify the image and its label\n",
    "args = (image_file, label_file, prefix, keypoint, num_classes, nkpt, ndim)\n",
    "result = verify_image_label(args)\n",
    "\n",
    "# Output the result\n",
    "print(\"Verification Results:\")\n",
    "print(f\"Image File: {result[0]}\")\n",
    "print(f\"Labels: {result[1]}\")\n",
    "print(f\"Image Shape: {result[2]}\")\n",
    "print(f\"Segments: {result[3]}\")\n",
    "print(f\"Keypoints: {result[4]}\")\n",
    "print(f\"Missing Labels: {result[5]}\")\n",
    "print(f\"Found Labels: {result[6]}\")\n",
    "print(f\"Empty Labels: {result[7]}\")\n",
    "print(f\"Corrupt Files: {result[8]}\")\n",
    "print(f\"Message: {result[9]}\")"
   ]
  },
  {
   "cell_type": "code",
   "execution_count": 6,
   "metadata": {},
   "outputs": [],
   "source": [
    "#DEVICE = \"mps\" # Set the device to 'cpu', 'mps' or 'cuda'\n",
    "EPOCHS = 2  # Number of epochs to train\n",
    "OPTIMIZER = \"AdamW\"  # Optimizer to use for training\n",
    "BATCH_SIZE = 8  # Batch size for training\n",
    "IMG_SIZE = 640  # Image size for training\n",
    "SAVE_DIR = \"/Users/janclevorn/Desktop/EPFL/IPEO_Project_Group_4/runs/train\"\n",
    "PRETRAINED = True\n",
    "DROPOUT = 0\n",
    "MOSAIC = 0 # Use Mosaic augmentation --> dont make sense for rock detection\n",
    "SCALE = 0 # Use Scale augmentation --> dont make sense for rock detection\n",
    "augmentation_params = {\n",
    "                        \"hsv_h\": 0.0,\n",
    "                        \"hsv_s\": 0.0,\n",
    "                        \"hsv_v\": 0.0,\n",
    "                        \"flipud\": 0.0,\n",
    "                        \"fliplr\": 0.0, \n",
    "                    }"
   ]
  },
  {
   "cell_type": "code",
   "execution_count": null,
   "metadata": {},
   "outputs": [],
   "source": [
    "# Load the YAML configuration\n",
    "model = YOLO('yolov8n.pt')  # Load YOLOv8"
   ]
  },
  {
   "cell_type": "code",
   "execution_count": null,
   "metadata": {},
   "outputs": [],
   "source": [
    "results = model.train(\n",
    "    data=\"/Users/janclevorn/Desktop/EPFL/IPEO_Project_Group_4/data.yaml\",\n",
    "    epochs=EPOCHS,\n",
    "    batch=BATCH_SIZE,\n",
    "    imgsz=IMG_SIZE,\n",
    "    #device=DEVICE,\n",
    "    optimizer=OPTIMIZER,\n",
    "    pretrained=PRETRAINED,\n",
    "    dropout=DROPOUT,\n",
    "    mosaic=MOSAIC,\n",
    "    scale=SCALE,\n",
    "    translate= 0.0,\n",
    "    hsv_h=augmentation_params[\"hsv_h\"],\n",
    "    hsv_s=augmentation_params[\"hsv_s\"],\n",
    "    hsv_v=augmentation_params[\"hsv_v\"],\n",
    "    flipud=augmentation_params[\"flipud\"],\n",
    "    fliplr=augmentation_params[\"fliplr\"],\n",
    ")"
   ]
  }
 ],
 "metadata": {
  "kernelspec": {
   "display_name": "IPEO",
   "language": "python",
   "name": "python3"
  },
  "language_info": {
   "codemirror_mode": {
    "name": "ipython",
    "version": 3
   },
   "file_extension": ".py",
   "mimetype": "text/x-python",
   "name": "python",
   "nbconvert_exporter": "python",
   "pygments_lexer": "ipython3",
   "version": "3.11.5"
  }
 },
 "nbformat": 4,
 "nbformat_minor": 2
}
